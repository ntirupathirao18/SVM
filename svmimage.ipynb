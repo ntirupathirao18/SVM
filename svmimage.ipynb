{
 "cells": [
  {
   "cell_type": "code",
   "execution_count": 189,
   "metadata": {
    "collapsed": true
   },
   "outputs": [],
   "source": [
    "import pandas as pd \n",
    "import os\n",
    "import numpy as np"
   ]
  },
  {
   "cell_type": "code",
   "execution_count": 190,
   "metadata": {},
   "outputs": [
    {
     "name": "stdout",
     "output_type": "stream",
     "text": [
      "C:\\Users\\NANI.TIRU\\Untitled Folder\\Internship\\svm\\train.csv\n"
     ]
    }
   ],
   "source": [
    "filename = os.path.abspath('train.csv')\n",
    "filename2 = os.path.abspath('test.csv')\n",
    "print(filename)\n",
    "df = pd.read_csv(filename)\n",
    "df2 = pd.read_csv(filename2)"
   ]
  },
  {
   "cell_type": "code",
   "execution_count": 191,
   "metadata": {},
   "outputs": [
    {
     "name": "stdout",
     "output_type": "stream",
     "text": [
      "['Acer_Opalus' 'Pterocarya_Stenoptera' 'Quercus_Hartwissiana'\n",
      " 'Tilia_Tomentosa' 'Quercus_Variabilis' 'Magnolia_Salicifolia'\n",
      " 'Quercus_Canariensis' 'Quercus_Rubra' 'Quercus_Brantii' 'Salix_Fragilis'\n",
      " 'Zelkova_Serrata' 'Betula_Austrosinensis' 'Quercus_Pontica'\n",
      " 'Quercus_Afares' 'Quercus_Coccifera' 'Fagus_Sylvatica' 'Phildelphus'\n",
      " 'Acer_Palmatum' 'Quercus_Pubescens' 'Populus_Adenopoda' 'Quercus_Trojana'\n",
      " 'Alnus_Sieboldiana' 'Quercus_Ilex' 'Arundinaria_Simonii' 'Acer_Platanoids'\n",
      " 'Quercus_Phillyraeoides' 'Cornus_Chinensis' 'Liriodendron_Tulipifera'\n",
      " 'Cytisus_Battandieri' 'Rhododendron_x_Russellianum' 'Alnus_Rubra'\n",
      " 'Eucalyptus_Glaucescens' 'Cercis_Siliquastrum' 'Cotinus_Coggygria'\n",
      " 'Celtis_Koraiensis' 'Quercus_Crassifolia' 'Quercus_Kewensis'\n",
      " 'Cornus_Controversa' 'Quercus_Pyrenaica' 'Callicarpa_Bodinieri'\n",
      " 'Quercus_Alnifolia' 'Acer_Saccharinum' 'Prunus_X_Shmittii' 'Prunus_Avium'\n",
      " 'Quercus_Greggii' 'Quercus_Suber' 'Quercus_Dolicholepis' 'Ilex_Cornuta'\n",
      " 'Tilia_Oliveri' 'Quercus_Semecarpifolia' 'Quercus_Texana' 'Ginkgo_Biloba'\n",
      " 'Liquidambar_Styraciflua' 'Quercus_Phellos' 'Quercus_Palustris'\n",
      " 'Alnus_Maximowiczii' 'Quercus_Agrifolia' 'Acer_Pictum' 'Acer_Rufinerve'\n",
      " 'Lithocarpus_Cleistocarpus' 'Viburnum_x_Rhytidophylloides'\n",
      " 'Ilex_Aquifolium' 'Acer_Circinatum' 'Quercus_Coccinea' 'Quercus_Cerris'\n",
      " 'Quercus_Chrysolepis' 'Eucalyptus_Neglecta' 'Tilia_Platyphyllos'\n",
      " 'Alnus_Cordata' 'Populus_Nigra' 'Acer_Capillipes' 'Magnolia_Heptapeta'\n",
      " 'Acer_Mono' 'Cornus_Macrophylla' 'Crataegus_Monogyna' 'Quercus_x_Turneri'\n",
      " 'Quercus_Castaneifolia' 'Lithocarpus_Edulis' 'Populus_Grandidentata'\n",
      " 'Acer_Rubrum' 'Quercus_Imbricaria' 'Eucalyptus_Urnigera'\n",
      " 'Quercus_Crassipes' 'Viburnum_Tinus' 'Morus_Nigra' 'Quercus_Vulcanica'\n",
      " 'Alnus_Viridis' 'Betula_Pendula' 'Olea_Europaea' 'Quercus_Ellipsoidalis'\n",
      " 'Quercus_x_Hispanica' 'Quercus_Shumardii' 'Quercus_Rhysophylla'\n",
      " 'Castanea_Sativa' 'Ulmus_Bergmanniana' 'Quercus_Nigra' 'Salix_Intergra'\n",
      " 'Quercus_Infectoria_sub' 'Sorbus_Aria']\n",
      "99\n"
     ]
    }
   ],
   "source": [
    "species = df.species.unique()\n",
    "print(species)\n",
    "classifiers = list(range(len(species)))\n",
    "print(len(classifiers))"
   ]
  },
  {
   "cell_type": "code",
   "execution_count": 192,
   "metadata": {
    "collapsed": true
   },
   "outputs": [],
   "source": [
    "def change_data(data,col1,species,classifiers) :\n",
    "    data[col1].replace(species,classifiers,inplace=True)  \n",
    "    return data"
   ]
  },
  {
   "cell_type": "code",
   "execution_count": 193,
   "metadata": {},
   "outputs": [],
   "source": [
    "train = change_data(df,'species',species,classifiers)\n",
    "target = train['species']"
   ]
  },
  {
   "cell_type": "code",
   "execution_count": 194,
   "metadata": {
    "collapsed": true
   },
   "outputs": [],
   "source": [
    "def removecolumns(pandasArray, *column):\n",
    "    return pandasArray.drop(pandasArray.columns[[column]], axis=1).values"
   ]
  },
  {
   "cell_type": "code",
   "execution_count": 195,
   "metadata": {},
   "outputs": [],
   "source": [
    "train = removecolumns(train,0,1)\n",
    "test  = removecolumns(df2,0)"
   ]
  },
  {
   "cell_type": "code",
   "execution_count": 196,
   "metadata": {},
   "outputs": [
    {
     "data": {
      "text/plain": [
       "SVC(C=1.0, cache_size=200, class_weight=None, coef0=0.0,\n",
       "  decision_function_shape='ovo', degree=3, gamma='auto', kernel='rbf',\n",
       "  max_iter=-1, probability=True, random_state=None, shrinking=True,\n",
       "  tol=0.001, verbose=False)"
      ]
     },
     "execution_count": 196,
     "metadata": {},
     "output_type": "execute_result"
    }
   ],
   "source": [
    "from sklearn import svm\n",
    "clf = svm.SVC(decision_function_shape='ovo',probability = True)\n",
    "clf.fit(train,target)  "
   ]
  },
  {
   "cell_type": "code",
   "execution_count": 201,
   "metadata": {},
   "outputs": [
    {
     "name": "stdout",
     "output_type": "stream",
     "text": [
      "594\n"
     ]
    },
    {
     "data": {
      "text/plain": [
       "array([[ 0.01004111,  0.01010579,  0.01007621, ...,  0.01005196,\n",
       "         0.01008508,  0.01011795],\n",
       "       [ 0.01004771,  0.01010231,  0.01009235, ...,  0.01007191,\n",
       "         0.01007191,  0.01012785],\n",
       "       [ 0.01007544,  0.01009764,  0.0100655 , ...,  0.01008982,\n",
       "         0.01011265,  0.01012623],\n",
       "       ..., \n",
       "       [ 0.01007914,  0.01011485,  0.0100461 , ...,  0.01008276,\n",
       "         0.01008611,  0.01013357],\n",
       "       [ 0.01006224,  0.01004476,  0.01011039, ...,  0.01007861,\n",
       "         0.01004231,  0.01013807],\n",
       "       [ 0.01008053,  0.01013475,  0.01010273, ...,  0.01008072,\n",
       "         0.01008687,  0.01015959]])"
      ]
     },
     "execution_count": 201,
     "metadata": {},
     "output_type": "execute_result"
    }
   ],
   "source": [
    "predt = clf.predict_proba(test)\n",
    "print(len(predt))\n",
    "predt"
   ]
  },
  {
   "cell_type": "code",
   "execution_count": 202,
   "metadata": {},
   "outputs": [],
   "source": [
    "result_dict = {}\n",
    "result_dict['id'] = list(df2.id)\n",
    "for i in range(len(species)) :\n",
    "    result_dict[species[i]] = []\n",
    "    for j in range(len(predt)) :\n",
    "        result_dict[species[i]].append(predt[j][i])"
   ]
  },
  {
   "cell_type": "code",
   "execution_count": 203,
   "metadata": {},
   "outputs": [],
   "source": [
    "result = pd.DataFrame(result_dict)\n",
    "id = result['id']\n",
    "result.drop(labels=['id'], axis=1,inplace = True)\n",
    "result.insert(0, 'id', id)\n",
    "result.to_csv('flower.csv',index = False)"
   ]
  }
 ],
 "metadata": {
  "kernelspec": {
   "display_name": "Python 3",
   "language": "python",
   "name": "python3"
  },
  "language_info": {
   "codemirror_mode": {
    "name": "ipython",
    "version": 3
   },
   "file_extension": ".py",
   "mimetype": "text/x-python",
   "name": "python",
   "nbconvert_exporter": "python",
   "pygments_lexer": "ipython3",
   "version": "3.6.3"
  }
 },
 "nbformat": 4,
 "nbformat_minor": 2
}
